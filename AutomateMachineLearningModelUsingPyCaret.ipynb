{
 "cells": [
  {
   "cell_type": "markdown",
   "id": "ac3e35f1",
   "metadata": {},
   "source": [
    "## Automate Machine Learning Model Using PyCaret"
   ]
  },
  {
   "cell_type": "code",
   "execution_count": null,
   "id": "4d03500f",
   "metadata": {},
   "outputs": [],
   "source": [
    "# pip install pycaret\n",
    "# pip install shap\n",
    "# pip install markupsafe==2.0.1\n",
    "# pip install mlflow"
   ]
  },
  {
   "cell_type": "code",
   "execution_count": null,
   "id": "26bef0eb",
   "metadata": {},
   "outputs": [],
   "source": [
    "# Importing Packages\n",
    "import pycaret"
   ]
  },
  {
   "cell_type": "code",
   "execution_count": null,
   "id": "08ac4a61",
   "metadata": {},
   "outputs": [],
   "source": [
    "# Loading Datasets\n",
    "from pycaret.datasets import get_data\n",
    "index = pycaret.datasets.get_data(\"index\")"
   ]
  },
  {
   "cell_type": "code",
   "execution_count": null,
   "id": "26d7c9e8",
   "metadata": {},
   "outputs": [],
   "source": [
    "# Loading Dataset\n",
    "data = get_data(\"juice\")"
   ]
  },
  {
   "cell_type": "code",
   "execution_count": null,
   "id": "a7cef0ad",
   "metadata": {},
   "outputs": [],
   "source": [
    "# Check Shape Of Dataset\n",
    "data.shape"
   ]
  },
  {
   "cell_type": "code",
   "execution_count": null,
   "id": "5b18d811",
   "metadata": {},
   "outputs": [],
   "source": [
    "# Import Classification Models\n",
    "from pycaret.classification import *\n",
    "clf1 = setup(data,target=\"Purchase\",session_id=123,log_experiment=True,experiment_name=\"juice\",normalize=True,feature_selection=True)"
   ]
  },
  {
   "cell_type": "code",
   "execution_count": null,
   "id": "ddcaba04",
   "metadata": {},
   "outputs": [],
   "source": [
    "# Get Training Data\n",
    "training_data = get_config(variable=\"X_train\")\n",
    "training_data"
   ]
  },
  {
   "cell_type": "code",
   "execution_count": null,
   "id": "581f3986",
   "metadata": {},
   "outputs": [],
   "source": [
    "# Get Shape Of Training Data\n",
    "training_data.shape"
   ]
  },
  {
   "cell_type": "code",
   "execution_count": null,
   "id": "77ff34ba",
   "metadata": {},
   "outputs": [],
   "source": [
    "# Get Classification Model\n",
    "models()"
   ]
  },
  {
   "cell_type": "code",
   "execution_count": null,
   "id": "c10a6c49",
   "metadata": {},
   "outputs": [],
   "source": [
    "# Compare Different Model\n",
    "best_model = compare_models()\n",
    "best_model"
   ]
  },
  {
   "cell_type": "code",
   "execution_count": null,
   "id": "609112be",
   "metadata": {},
   "outputs": [],
   "source": [
    "# Create Model\n",
    "rf = create_model(\"rf\",fold=5)\n",
    "rf"
   ]
  },
  {
   "cell_type": "code",
   "execution_count": null,
   "id": "7ade35bb",
   "metadata": {},
   "outputs": [],
   "source": [
    "# Hyperparamter Tuning\n",
    "tuned_rf = tune_model(rf)\n",
    "tuned_rf"
   ]
  },
  {
   "cell_type": "code",
   "execution_count": null,
   "id": "8a648a8d",
   "metadata": {},
   "outputs": [],
   "source": [
    "# Plot ROC Curve\n",
    "plot_model(tuned_rf)"
   ]
  },
  {
   "cell_type": "code",
   "execution_count": null,
   "id": "6e8e097f",
   "metadata": {},
   "outputs": [],
   "source": [
    "# Display Confusion Matrix\n",
    "plot_model(tuned_rf,plot=\"confusion_matrix\")"
   ]
  },
  {
   "cell_type": "code",
   "execution_count": null,
   "id": "86bff1ba",
   "metadata": {},
   "outputs": [],
   "source": [
    "# Display Feature Importance\n",
    "plot_model(tuned_rf,plot=\"feature\")"
   ]
  },
  {
   "cell_type": "code",
   "execution_count": null,
   "id": "deb2202a",
   "metadata": {},
   "outputs": [],
   "source": [
    "# Interpreting Model\n",
    "interpret_model(tuned_rf)"
   ]
  },
  {
   "cell_type": "code",
   "execution_count": null,
   "id": "42fbd948",
   "metadata": {},
   "outputs": [],
   "source": [
    "# Save Model\n",
    "save_model(tuned_rf,model_name=\"best-model\")"
   ]
  }
 ],
 "metadata": {
  "kernelspec": {
   "display_name": "Python 3 (ipykernel)",
   "language": "python",
   "name": "python3"
  },
  "language_info": {
   "codemirror_mode": {
    "name": "ipython",
    "version": 3
   },
   "file_extension": ".py",
   "mimetype": "text/x-python",
   "name": "python",
   "nbconvert_exporter": "python",
   "pygments_lexer": "ipython3",
   "version": "3.11.5"
  }
 },
 "nbformat": 4,
 "nbformat_minor": 5
}
