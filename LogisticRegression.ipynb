{
 "cells": [
  {
   "cell_type": "markdown",
   "id": "02305e75",
   "metadata": {},
   "source": [
    "## Logistic Regression1"
   ]
  },
  {
   "cell_type": "code",
   "execution_count": null,
   "id": "2f9284df",
   "metadata": {},
   "outputs": [],
   "source": [
    "# Importing Packages\n",
    "\n",
    "import pandas as pd\n",
    "import numpy as np\n",
    "from sklearn.linear_model import LogisticRegression\n",
    "from sklearn.metrics import confusion_matrix,classification_report"
   ]
  },
  {
   "cell_type": "code",
   "execution_count": null,
   "id": "c67768e9",
   "metadata": {},
   "outputs": [],
   "source": [
    "# Importing Dataset\n",
    "\n",
    "train_data = pd.read_csv(\"train_data.csv\")\n",
    "test_data = pd.read_csv(\"test_data.csv\")"
   ]
  },
  {
   "cell_type": "code",
   "execution_count": null,
   "id": "e559f5cb",
   "metadata": {},
   "outputs": [],
   "source": [
    "# Display Top 5 Rows\n",
    "train_data.head()"
   ]
  },
  {
   "cell_type": "code",
   "execution_count": null,
   "id": "9d42d547",
   "metadata": {},
   "outputs": [],
   "source": [
    "# Display Shape of Dataset\n",
    "train_data.shape,test_data.shape"
   ]
  },
  {
   "cell_type": "code",
   "execution_count": null,
   "id": "634a0506",
   "metadata": {},
   "outputs": [],
   "source": [
    "# Description About The Dataset\n",
    "train_data.describe()"
   ]
  },
  {
   "cell_type": "code",
   "execution_count": null,
   "id": "72a294db",
   "metadata": {},
   "outputs": [],
   "source": [
    "# Check Null Values\n",
    "train_data.isnull().sum()"
   ]
  },
  {
   "cell_type": "code",
   "execution_count": null,
   "id": "7d4dbe26",
   "metadata": {},
   "outputs": [],
   "source": [
    "# Check Datatypes\n",
    "train_data.dtypes"
   ]
  },
  {
   "cell_type": "code",
   "execution_count": null,
   "id": "a4edf62c",
   "metadata": {},
   "outputs": [],
   "source": [
    "# Check Values\n",
    "train_data[\"Accept\"].value_counts(normalize=True)"
   ]
  },
  {
   "cell_type": "code",
   "execution_count": null,
   "id": "c11a21f5",
   "metadata": {},
   "outputs": [],
   "source": [
    "# Get Column Name\n",
    "train_data.columns"
   ]
  },
  {
   "cell_type": "code",
   "execution_count": null,
   "id": "b1987189",
   "metadata": {},
   "outputs": [],
   "source": [
    "# Split Data Into Explanatory Variable And Target Variable\n",
    "X_train = train_data.iloc[:,:-1]\n",
    "Y_train = train_data[\"Accept\"]\n",
    "print(X_train.shape,Y_train.shape)"
   ]
  },
  {
   "cell_type": "code",
   "execution_count": null,
   "id": "204b086d",
   "metadata": {},
   "outputs": [],
   "source": [
    "# Check Shape Of Test Data\n",
    "test_data.shape"
   ]
  },
  {
   "cell_type": "code",
   "execution_count": null,
   "id": "580ddee6",
   "metadata": {},
   "outputs": [],
   "source": [
    "# Check Values\n",
    "test_data[\"Accept\"].value_counts(normalize=True)"
   ]
  },
  {
   "cell_type": "code",
   "execution_count": null,
   "id": "6588379c",
   "metadata": {},
   "outputs": [],
   "source": [
    "# Check Null Values In Test Data\n",
    "test_data.isnull().sum()"
   ]
  },
  {
   "cell_type": "code",
   "execution_count": null,
   "id": "087f2510",
   "metadata": {},
   "outputs": [],
   "source": [
    "# # Split Data Into Explanatory Variable And Target Variable\n",
    "X_test = test_data.iloc[:,:-1]\n",
    "Y_test = test_data[\"Accept\"]\n",
    "print(X_test.shape,Y_test.shape)"
   ]
  },
  {
   "cell_type": "code",
   "execution_count": null,
   "id": "cbc72849",
   "metadata": {},
   "outputs": [],
   "source": [
    "# Build Logistic Regression Model\n",
    "model = LogisticRegression()\n",
    "model.fit(X_train,Y_train)"
   ]
  },
  {
   "cell_type": "code",
   "execution_count": null,
   "id": "3375be6b",
   "metadata": {},
   "outputs": [],
   "source": [
    "# Predict The Output\n",
    "Y_pred = model.predict(X_test)\n",
    "print(Y_pred.shape)"
   ]
  },
  {
   "cell_type": "code",
   "execution_count": null,
   "id": "face13d2",
   "metadata": {},
   "outputs": [],
   "source": [
    "confusion_matrix(Y_test,Y_pred)"
   ]
  },
  {
   "cell_type": "code",
   "execution_count": null,
   "id": "2cae6a25",
   "metadata": {},
   "outputs": [],
   "source": [
    "print(classification_report(Y_test,Y_pred))"
   ]
  },
  {
   "cell_type": "code",
   "execution_count": null,
   "id": "dea4f8e9",
   "metadata": {},
   "outputs": [],
   "source": [
    "# Get Prediction Probability\n",
    "Y_pred_prob = model.predict_proba(X_test)[:,1]"
   ]
  },
  {
   "cell_type": "code",
   "execution_count": null,
   "id": "a97e5c1d",
   "metadata": {},
   "outputs": [],
   "source": [
    "# Creating NewDataFrame\n",
    "df = pd.DataFrame()"
   ]
  },
  {
   "cell_type": "code",
   "execution_count": null,
   "id": "f7aa5f3b",
   "metadata": {},
   "outputs": [],
   "source": [
    "df[\"test\"],df[\"pred\"],df[\"Predicted Probability\"] = Y_test,Y_pred,Y_pred_prob"
   ]
  },
  {
   "cell_type": "code",
   "execution_count": null,
   "id": "abb0dde5",
   "metadata": {},
   "outputs": [],
   "source": [
    "df"
   ]
  },
  {
   "cell_type": "markdown",
   "id": "39bb67fc",
   "metadata": {},
   "source": [
    "## Question On LogisticRegression"
   ]
  },
  {
   "cell_type": "markdown",
   "id": "bcebb6c8",
   "metadata": {},
   "source": [
    "## Executive Summary:\n",
    "Heart disease is easier to treat when it is detected in the early stages. Statistical techniques may aid a more efficient analysis in the prediction of the disease. Moreover, this prediction is one of the most central problems in medicine, as it is one of the leading diseases related to an unhealthy lifestyle. So, an early prediction of this disease will be useful for a cure or aversion.\n",
    "\n",
    "\n",
    "## Problem Statement:\n",
    "Analyze the heart disease dataset to explore the logistic regression algorithm and build a model to predict the disease.\n",
    "\n",
    "## Dataset Information:\n",
    "Each attribute in the heart disease dataset is a medical risk factor.\n",
    "\n",
    "## Variable Description:\n",
    "\n",
    "Column\t                             Description<br>\n",
    "age => Age of the patient<br>\n",
    "gender => Gender of the patient - (0,1) - (Male, Female)<br>\n",
    "chest_pain => It refers to the chest pain experienced by the patient -(0,1,2,3)<br>\n",
    "rest_bps => Blood pressure of the patient while resting(in mm/Hg)<br>\n",
    "cholesterol => Patient's cholesterol level (in mg/dl)<br>\n",
    "fasting_blood_sugar => The blood sugar of the patient while fasting<br>\n",
    "rest_ecg => Potassium level (0,1,2)<br>\n",
    "thalach => The patient’s maximum heart rate<br>\n",
    "exer_angina => It refers to exercise-induced angina - (1=Yes, 0=No)<br>\n",
    "old_peak => It is the ST depression induced by exercise relative to rest(ST relates to the position on ECG plots)<br>\n",
    "slope => It refers to the slope of the peak of the exercise ST-Segment- (0,1,2)<br>\n",
    "ca => Number of major vessels - (0,1,2,3,4)<br>\n",
    "thalassemia => It refers to thalassemia which is a blood disorder - (0,1,2,3)<br>\n",
    "target => The patient has heart disease or not - (1=Yes, 0=No)<br>\n",
    "\n",
    "You are provided with four datasets:\n",
    "X_train.xlsx\n",
    "X_test.xlsx\n",
    "Y_train.xlsx\n",
    "Y_test.xlsx\n",
    "You will be working on a classification problem where the target variable says whether the customer has a heart disease (indicated by 1) or not (indicated by 0).\n",
    "\n",
    "Just Load the X_train.xlsx, Y_train.xlsx <br>\n",
    "Separately load the X_test.xlsx and Y_test.xlsx <br>\n",
    "Run LogisticRegression() with random state = 17, ignore the warnings and use the default max_iterations. Do not increase max_iterations.<br>\n",
    "Fit the model on X_train and y_train <br>\n",
    "Predict on the X_train using the Logistic Regression model and store the predictions in y_pred_train<br>\n",
    "Predict on the X_test using the Logistic Regression model and store the predictions in y_pred_test<br>\n",
    "Print the classification report for training and test data predictions<br>\n",
    "Create the confusion matrix for test data<br>\n",
    "Round-off all answers to 2 decimal places<br>"
   ]
  },
  {
   "cell_type": "code",
   "execution_count": null,
   "id": "51094d28",
   "metadata": {},
   "outputs": [],
   "source": [
    "# Importing Dataset\n",
    "\n",
    "X_train = pd.read_csv(\"X_train.csv\")\n",
    "X_test = pd.read_csv(\"X_test.csv\")\n",
    "Y_train = pd.read_csv(\"Y_train.csv\")\n",
    "Y_test = pd.read_csv(\"Y_test.csv\")"
   ]
  },
  {
   "cell_type": "code",
   "execution_count": null,
   "id": "dab3ef0c",
   "metadata": {},
   "outputs": [],
   "source": [
    "# 1. How many observations are available in the training data? Hint: Enter your answer as an integer.\n",
    "\n",
    "print(X_train.shape[0])"
   ]
  },
  {
   "cell_type": "code",
   "execution_count": null,
   "id": "8a315608",
   "metadata": {},
   "outputs": [],
   "source": [
    "# 2. How many observations are available in the test data? Hint: Enter your answer as an integer.\n",
    "\n",
    "print(X_test.shape[0])"
   ]
  },
  {
   "cell_type": "code",
   "execution_count": null,
   "id": "48ebe898",
   "metadata": {},
   "outputs": [],
   "source": [
    "# 3. What is the proportion of patients who have heart disease in the training dataset? Hint: Mention your answer in terms of \n",
    "# percentage. If your answer is 70.51%, enter 70.51\n",
    "\n",
    "train_data = pd.merge(X_train,Y_train,on=\"PatientId\")\n",
    "round(len(train_data[train_data[\"target\"] == 1])/len(train_data)*100,2)"
   ]
  },
  {
   "cell_type": "code",
   "execution_count": null,
   "id": "04bba43d",
   "metadata": {},
   "outputs": [],
   "source": [
    "# 4 What is the proportion of patients who have heart disease in the test dataset? Hint: Mention your answer in terms of \n",
    "# percentage. If your answer is 70.51%, enter 70.51\n",
    "\n",
    "test_data = pd.merge(X_test,Y_test,on=\"PatientId\")\n",
    "round(len(test_data[test_data[\"target\"] == 1])/len(test_data)*100,2)"
   ]
  },
  {
   "cell_type": "code",
   "execution_count": null,
   "id": "517937c2",
   "metadata": {},
   "outputs": [],
   "source": [
    "# 5 What is the proportion of patients who do not have heart disease in the test dataset? Hint: Mention your answer in terms of \n",
    "# percentage. If your answer is 70.51%, enter 70.51\n",
    "\n",
    "round(len(test_data[test_data[\"target\"] == 0])/len(test_data)*100,2)"
   ]
  },
  {
   "cell_type": "code",
   "execution_count": null,
   "id": "12dcaa23",
   "metadata": {},
   "outputs": [],
   "source": [
    "# 6 What is the proportion of patients who do not have heart disease in the training dataset? Hint: Mention your answer in terms\n",
    "# of percentage. If your answer is 70.51%, enter 70.51\n",
    "\n",
    "round(len(train_data[train_data[\"target\"] == 0])/len(train_data)*100,2)"
   ]
  },
  {
   "cell_type": "code",
   "execution_count": null,
   "id": "d5b9fecf",
   "metadata": {
    "scrolled": true
   },
   "outputs": [],
   "source": [
    "# 7 Fit the model on the train data (use LogisticRegression from sklearn.linear_model and random state=17) and make predictions \n",
    "# on the train data, and answer questions (7 to 9). What is the training accuracy? If your answer is 70.51%, enter 70.5.\n",
    "# Hint: Compare the predictions of Y_train and Y_pred_train. If your answer is 70.51%, enter 70.51\n",
    "\n",
    "model = LogisticRegression()\n",
    "model.fit(X_train.iloc[:,1:],Y_train.iloc[:,-1])\n",
    "\n",
    "Y_pred_train = model.predict(X_train.iloc[:,1:])\n",
    "x = confusion_matrix(Y_train.iloc[:,-1],Y_pred_train)\n",
    "\n",
    "print(\"Accuracy of Training Data : \",(x[0][0] + x[1][1])/np.sum(x))"
   ]
  },
  {
   "cell_type": "code",
   "execution_count": null,
   "id": "12e2ca05",
   "metadata": {},
   "outputs": [],
   "source": [
    "# 8 What is the training data precision of your model if the aim is to find patients who will not have heart disease? Hint: \n",
    "# Compare the predictions of Y_train and Y_pred_train. Mention your answer in terms of percentage. If your answer is 70.51%, \n",
    "# enter 70.51\n",
    "\n",
    "print(\"Precision : \",x[0][0]/np.sum(x,axis=0)[0])"
   ]
  },
  {
   "cell_type": "code",
   "execution_count": null,
   "id": "8bdc9072",
   "metadata": {},
   "outputs": [],
   "source": [
    "# 9 What is the training data recall of your model if the aim is to find patients who will have heart disease? Hint: enter your \n",
    "# answer in terms of percentage. If your answer is 70.51%, enter 70.51\n",
    "\n",
    "print(\"Recall : \",x[1][1]/np.sum(x,axis=1)[1])"
   ]
  },
  {
   "cell_type": "code",
   "execution_count": null,
   "id": "8c436945",
   "metadata": {},
   "outputs": [],
   "source": [
    "print(classification_report(Y_train.iloc[:,-1],Y_pred_train))"
   ]
  },
  {
   "cell_type": "code",
   "execution_count": null,
   "id": "ba90e364",
   "metadata": {},
   "outputs": [],
   "source": [
    "# 10 After training your model on the train data, make predictions on the test data, and answer questions 10 to 14. From the \n",
    "# confusion matrix, identify the number of predictions that have a type 1 error (false positive). Hint: Use confusion_matrix\n",
    "# (Y_test, Y_pred_test).ravel() and enter your answer as an integer.\n",
    "\n",
    "Y_pred_test = model.predict(X_test.iloc[:,1:])\n",
    "x = confusion_matrix(Y_test.iloc[:,-1],Y_pred_test)\n",
    "\n",
    "print(\"False Positive : \",x[0][1])"
   ]
  },
  {
   "cell_type": "code",
   "execution_count": null,
   "id": "9a9c4c0c",
   "metadata": {},
   "outputs": [],
   "source": [
    "# 11 In the test data confusion matrix, identify the number of predictions that have a type 2 error (false negative). Hint: Use \n",
    "# confusion_matrix(Y_test, Y_pred_test).ravel() and enter your answer as an integer.\n",
    "\n",
    "print(\"False Negative : \",x[1][0])"
   ]
  },
  {
   "cell_type": "code",
   "execution_count": null,
   "id": "8b3e6da3",
   "metadata": {},
   "outputs": [],
   "source": [
    "# 12 What is the accuracy of the model in the test data? Mention your answer in terms of percentage and round off the answers \n",
    "# to two decimals. If your answer is 70.51%, enter 70.51\n",
    "\n",
    "print(\"Accuracy of Testing Data : \",(x[0][0]+x[1][1]) / np.sum(x))"
   ]
  },
  {
   "cell_type": "code",
   "execution_count": null,
   "id": "777f263d",
   "metadata": {},
   "outputs": [],
   "source": [
    "# 13 What is the precision of your model in the test data if the aim is to find patients who will have heart disease? Hint: \n",
    "# Mention your answer in terms of percentage and round off the answers to two decimals. If your answer is 70.51%, enter 70.51\n",
    "\n",
    "print(\"Precision : \",x[1][1]/np.sum(x,axis=0)[1])"
   ]
  },
  {
   "cell_type": "code",
   "execution_count": null,
   "id": "369f249a",
   "metadata": {},
   "outputs": [],
   "source": [
    "# 14 What is the recall of your model in the test data if the aim is to find patients who will have heart disease? Mention your \n",
    "# answer in terms of percentage and round off the answers to two decimals. If your answer is 70.51%, enter 70.51\n",
    "\n",
    "print(\"Recall : \",x[1][1]/np.sum(x,axis=1)[1])"
   ]
  },
  {
   "cell_type": "code",
   "execution_count": null,
   "id": "980210fe",
   "metadata": {},
   "outputs": [],
   "source": [
    "# 15 Has the precision for customers having a heart disease increased or decreased when the model is tested on the testing data \n",
    "# set as compared to the results obtained from the training data set?\n",
    "\n",
    "print(\"No\")"
   ]
  },
  {
   "cell_type": "code",
   "execution_count": null,
   "id": "4b04ca78",
   "metadata": {},
   "outputs": [],
   "source": [
    "print(classification_report(Y_test.iloc[:,-1],Y_pred_test))"
   ]
  }
 ],
 "metadata": {
  "kernelspec": {
   "display_name": "Python 3 (ipykernel)",
   "language": "python",
   "name": "python3"
  },
  "language_info": {
   "codemirror_mode": {
    "name": "ipython",
    "version": 3
   },
   "file_extension": ".py",
   "mimetype": "text/x-python",
   "name": "python",
   "nbconvert_exporter": "python",
   "pygments_lexer": "ipython3",
   "version": "3.11.5"
  }
 },
 "nbformat": 4,
 "nbformat_minor": 5
}
