{
 "cells": [
  {
   "cell_type": "markdown",
   "id": "212bd083",
   "metadata": {},
   "source": [
    "## SimpleLinearRegression1"
   ]
  },
  {
   "cell_type": "code",
   "execution_count": null,
   "id": "8b17c0cd",
   "metadata": {},
   "outputs": [],
   "source": [
    "# Importing Packages\n",
    "\n",
    "import numpy as np\n",
    "import pandas as pd\n",
    "import matplotlib.pyplot as plt\n",
    "import seaborn as sns\n",
    "from sklearn.model_selection import train_test_split\n",
    "from sklearn.linear_model import LinearRegression\n",
    "from sklearn.metrics import mean_absolute_error,mean_squared_error,r2_score\n",
    "%matplotlib inline"
   ]
  },
  {
   "cell_type": "code",
   "execution_count": null,
   "id": "15389c8f",
   "metadata": {},
   "outputs": [],
   "source": [
    "# Import Dataset\n",
    "\n",
    "df = pd.read_csv(\"tvmarketing.csv\")"
   ]
  },
  {
   "cell_type": "code",
   "execution_count": null,
   "id": "8a76a3df",
   "metadata": {},
   "outputs": [],
   "source": [
    "# Check Top 5 Rows Of Dataset\n",
    "\n",
    "df.head()"
   ]
  },
  {
   "cell_type": "code",
   "execution_count": null,
   "id": "f4a6aa8c",
   "metadata": {},
   "outputs": [],
   "source": [
    "# Check Last 5 Rows Of Dataset\n",
    "\n",
    "df.tail()"
   ]
  },
  {
   "cell_type": "code",
   "execution_count": null,
   "id": "b949243e",
   "metadata": {},
   "outputs": [],
   "source": [
    "# Check Whether There Is a Linear Pattern Between X And Y\n",
    "\n",
    "plt.scatter(df[\"TV\"],df[\"Sales\"])\n",
    "plt.xlabel('TV')\n",
    "plt.ylabel(\"Sales\")\n",
    "plt.show()"
   ]
  },
  {
   "cell_type": "code",
   "execution_count": null,
   "id": "16f4cd0c",
   "metadata": {},
   "outputs": [],
   "source": [
    "# Mark The Response Variable(Y) And The Predictor(X)\n",
    "\n",
    "X = df.iloc[:,:1]\n",
    "Y = df.iloc[:,-1]"
   ]
  },
  {
   "cell_type": "code",
   "execution_count": null,
   "id": "70fe64a6",
   "metadata": {},
   "outputs": [],
   "source": [
    "# Divide The Data Into Training And Validation Data\n",
    "\n",
    "X_train,X_test,Y_train,Y_test = train_test_split(X,Y,test_size=0.2,random_state=2)"
   ]
  },
  {
   "cell_type": "code",
   "execution_count": null,
   "id": "740144f9",
   "metadata": {},
   "outputs": [],
   "source": [
    "# Fitting SLR Model\n",
    "\n",
    "lr = LinearRegression()\n",
    "lr.fit(X_train,Y_train)\n"
   ]
  },
  {
   "cell_type": "code",
   "execution_count": null,
   "id": "d1b72a1b",
   "metadata": {},
   "outputs": [],
   "source": [
    "# Get Regression Parameter And Regression Line\n",
    "\n",
    "m = lr.coef_\n",
    "c = lr.intercept_\n",
    "print(f\"Slope = {round(m[0],2)} and Intercept = {round(c,2)}\")\n",
    "print(f\"Regression Line y={round(m[0],2)}*x+{round(c,2)}\")"
   ]
  },
  {
   "cell_type": "code",
   "execution_count": null,
   "id": "c412c4f2",
   "metadata": {},
   "outputs": [],
   "source": [
    "# Predict The Output On Test Data\n",
    "\n",
    "Y_pred = lr.predict(X_test)"
   ]
  },
  {
   "cell_type": "code",
   "execution_count": null,
   "id": "900a3dc1",
   "metadata": {},
   "outputs": [],
   "source": [
    "# Get Performance Metrics\n",
    "\n",
    "print(\"Mean Absolute Error : \",round(mean_absolute_error(Y_test,Y_pred),2))\n",
    "print(\"Mean Squared Error : \",round(mean_squared_error(Y_test,Y_pred),2))\n",
    "print(\"R2 Square Error : \",round(r2_score(Y_test,Y_pred),2))"
   ]
  },
  {
   "cell_type": "markdown",
   "id": "f4616d70",
   "metadata": {},
   "source": [
    "## SimpleLinearRegression2"
   ]
  },
  {
   "cell_type": "code",
   "execution_count": null,
   "id": "919a06f9",
   "metadata": {},
   "outputs": [],
   "source": [
    "# Import Dataset\n",
    "df = pd.read_csv(\"ConstantElasticity.csv\")"
   ]
  },
  {
   "cell_type": "code",
   "execution_count": null,
   "id": "65f6806e",
   "metadata": {},
   "outputs": [],
   "source": [
    "# Check Top 5 Rows Of Dataset\n",
    "df.head()"
   ]
  },
  {
   "cell_type": "code",
   "execution_count": null,
   "id": "ac2d6fce",
   "metadata": {},
   "outputs": [],
   "source": [
    "# Check Whether There Is a Linear Pattern Between X And Y\n",
    "sns.regplot(x=\"Price\",y=\"Dem\",data=df,fit_reg=False)\n",
    "plt.show()"
   ]
  },
  {
   "cell_type": "code",
   "execution_count": null,
   "id": "05cc0b8a",
   "metadata": {},
   "outputs": [],
   "source": [
    "# Calculate R2 Score\n",
    "print(\"R2 Score : \",df[\"Price\"].corr(df[\"Dem\"])**2)"
   ]
  },
  {
   "cell_type": "code",
   "execution_count": null,
   "id": "993ecf8c",
   "metadata": {},
   "outputs": [],
   "source": [
    "# Transformation\n",
    "df[\"NaturalLogPrice\"] = np.log(df[\"Price\"])\n",
    "df[\"NaturalLogDemand\"] = np.log(df[\"Dem\"])\n",
    "df"
   ]
  },
  {
   "cell_type": "code",
   "execution_count": null,
   "id": "0557e9b5",
   "metadata": {},
   "outputs": [],
   "source": [
    "# Fitting SLR Model\n",
    "lr = LinearRegression()\n",
    "# lr.fit(np.array(df[\"NaturalLogPrice\"]).reshape(-1,1),np.array(df[\"NaturalLogDemand\"]).reshape(-1,1))\n",
    "lr.fit(df[\"NaturalLogPrice\"].values.reshape(-1,1),df[\"NaturalLogDemand\"])"
   ]
  },
  {
   "cell_type": "code",
   "execution_count": null,
   "id": "48f0835e",
   "metadata": {},
   "outputs": [],
   "source": [
    "# Get Regression Parameter And Regression Line\n",
    "m = lr.coef_\n",
    "c = lr.intercept_\n",
    "print(f\"Slope = {round(m[0],2)} and Intercept = {round(c,2)}\")\n",
    "print(f\"Regression Line :  y={round(m[0],2)}*x+{round(c,2)}\")"
   ]
  },
  {
   "cell_type": "code",
   "execution_count": null,
   "id": "9b346df7",
   "metadata": {},
   "outputs": [],
   "source": [
    "# Predict The Output On Test Data\n",
    "Y_pred = lr.predict(np.array(df[\"NaturalLogPrice\"]).reshape(-1,1))"
   ]
  },
  {
   "cell_type": "code",
   "execution_count": null,
   "id": "ee7a5e32",
   "metadata": {},
   "outputs": [],
   "source": [
    "# Get Performance Metrics\n",
    "print(\"Root Mean Squared Error : \",np.sqrt(mean_squared_error(df[\"NaturalLogDemand\"].values.reshape(-1,1),Y_pred)))\n",
    "print(\"R2 Square Error : \",r2_score(df[\"NaturalLogDemand\"].values.reshape(-1,1),Y_pred))"
   ]
  },
  {
   "cell_type": "markdown",
   "id": "209920ee",
   "metadata": {},
   "source": [
    "## SimpleLinearRegression3"
   ]
  },
  {
   "cell_type": "code",
   "execution_count": null,
   "id": "03c2d042",
   "metadata": {},
   "outputs": [],
   "source": [
    "# Import Dataset\n",
    "df = pd.read_csv(\"data_transform.csv\")"
   ]
  },
  {
   "cell_type": "code",
   "execution_count": null,
   "id": "a156e484",
   "metadata": {},
   "outputs": [],
   "source": [
    "# Check Top 5 Rows Of Dataset\n",
    "df.head()"
   ]
  },
  {
   "cell_type": "code",
   "execution_count": null,
   "id": "fa7f9fee",
   "metadata": {},
   "outputs": [],
   "source": [
    "# Check Last 5 Rows Of Dataset\n",
    "df.tail()"
   ]
  },
  {
   "cell_type": "code",
   "execution_count": null,
   "id": "01918656",
   "metadata": {},
   "outputs": [],
   "source": [
    "# Check Whether There Is linear Pattern Between X And Y\n",
    "plt.scatter(df[\"Price\"],df[\"Sales\"])\n",
    "plt.xlabel(\"Price\")\n",
    "plt.ylabel(\"Sales\")\n",
    "plt.title(\"Price vs Sales\")\n",
    "plt.show()"
   ]
  },
  {
   "cell_type": "code",
   "execution_count": null,
   "id": "6c6bc030",
   "metadata": {},
   "outputs": [],
   "source": [
    "# Mark The Response Variable(Y) And The Predictor(X)\n",
    "X = df.iloc[:,:1]\n",
    "Y = df.iloc[:,-1]"
   ]
  },
  {
   "cell_type": "code",
   "execution_count": null,
   "id": "b96a4f31",
   "metadata": {},
   "outputs": [],
   "source": [
    "# Fitting SLR Model\n",
    "lr = LinearRegression()\n",
    "lr.fit(X,Y)"
   ]
  },
  {
   "cell_type": "code",
   "execution_count": null,
   "id": "71c9cb43",
   "metadata": {},
   "outputs": [],
   "source": [
    "# Get Regression Parameter And Regression Line\n",
    "m = lr.coef_\n",
    "c = lr.intercept_\n",
    "print(f\"Slope = {round(m[0],2)} and Intercept = {round(c,2)}\")\n",
    "print(f\"Regression Line y={round(m[0],2)}*x+{round(c,2)}\")"
   ]
  },
  {
   "cell_type": "code",
   "execution_count": null,
   "id": "863eadb8",
   "metadata": {},
   "outputs": [],
   "source": [
    "# Predict The Output\n",
    "Y_pred = lr.predict(X)"
   ]
  },
  {
   "cell_type": "code",
   "execution_count": null,
   "id": "d310aa86",
   "metadata": {},
   "outputs": [],
   "source": [
    "# Get Performance Metrics\n",
    "print(\"Mean Absolute Error : \",round(mean_absolute_error(Y,Y_pred),2))\n",
    "print(\"Mean Squared Error : \",round(mean_squared_error(Y,Y_pred),2))\n",
    "print(\"R2 Error : \",round(r2_score(Y,Y_pred),2))"
   ]
  },
  {
   "cell_type": "markdown",
   "id": "240b95b3",
   "metadata": {},
   "source": [
    "## Question On Linear Regression"
   ]
  },
  {
   "cell_type": "code",
   "execution_count": null,
   "id": "fcc4ec68",
   "metadata": {},
   "outputs": [],
   "source": [
    "# Import Dataset\n",
    "df = pd.read_csv(\"data_transform.csv\")"
   ]
  },
  {
   "cell_type": "code",
   "execution_count": null,
   "id": "93dd7475",
   "metadata": {},
   "outputs": [],
   "source": [
    "# Check Top 5 Rows Of Dataset\n",
    "df.head()"
   ]
  },
  {
   "cell_type": "code",
   "execution_count": null,
   "id": "a1332f6d",
   "metadata": {},
   "outputs": [],
   "source": [
    "# Check Last 5 Rows Of Dataset\n",
    "df.tail()"
   ]
  },
  {
   "cell_type": "code",
   "execution_count": null,
   "id": "8b6145dd",
   "metadata": {},
   "outputs": [],
   "source": [
    "# Check Whether There Is a Linear Pattern Between X And Y\n",
    "sns.regplot(x=\"Price\",y=\"Sales\",data=df,fit_reg=False)\n",
    "plt.show()"
   ]
  },
  {
   "cell_type": "code",
   "execution_count": null,
   "id": "ff7c11a8",
   "metadata": {},
   "outputs": [],
   "source": [
    "# 1. What is the r-square value (round off to two decimals)\n",
    "\n",
    "print(\"R2 Score : \",df[\"Price\"].corr(df[\"Sales\"])**2)"
   ]
  },
  {
   "cell_type": "code",
   "execution_count": null,
   "id": "1464738a",
   "metadata": {},
   "outputs": [],
   "source": [
    "# 2. Is the model significant?\n",
    "\n",
    "print(\"Yes\")"
   ]
  },
  {
   "cell_type": "code",
   "execution_count": null,
   "id": "0b4dfb5a",
   "metadata": {},
   "outputs": [],
   "source": [
    "# 3. What is the value of the intercept?\n",
    "\n",
    "lr = LinearRegression()\n",
    "lr.fit(df[\"Price\"].values.reshape(-1,1),df[\"Sales\"])\n",
    "\n",
    "lr.intercept_"
   ]
  },
  {
   "cell_type": "code",
   "execution_count": null,
   "id": "3015d0f6",
   "metadata": {},
   "outputs": [],
   "source": [
    "# 4. What is the value of the slope?\n",
    "\n",
    "lr.coef_[0]"
   ]
  },
  {
   "cell_type": "code",
   "execution_count": null,
   "id": "9e1f474e",
   "metadata": {},
   "outputs": [],
   "source": [
    "# 5. Use natural log transformation and refit the model using the transformed dataset answer questions (5) to (8)\n",
    "# Hint: Use np.log\n",
    "# What is the value of R2 on the transformed dataset\n",
    "\n",
    "df[\"NaturalLogPrice\"] = np.log(df[\"Price\"])\n",
    "df[\"NaturalLogSales\"] = np.log(df[\"Sales\"])\n",
    "print(\"R2 Score : \",df[\"NaturalLogPrice\"].corr(df[\"NaturalLogSales\"])**2)"
   ]
  },
  {
   "cell_type": "code",
   "execution_count": null,
   "id": "ca95d3a3",
   "metadata": {},
   "outputs": [],
   "source": [
    "# 6. Is the model significant?\n",
    "\n",
    "print(\"Yes\")"
   ]
  },
  {
   "cell_type": "code",
   "execution_count": null,
   "id": "8748879a",
   "metadata": {},
   "outputs": [],
   "source": [
    "# Fitting SLR Model\n",
    "lr = LinearRegression()\n",
    "lr.fit(df[\"NaturalLogPrice\"].values.reshape(-1,1),df[\"NaturalLogSales\"])"
   ]
  },
  {
   "cell_type": "code",
   "execution_count": null,
   "id": "7911d4db",
   "metadata": {},
   "outputs": [],
   "source": [
    "# 7. What is the value of the intercept?\n",
    "\n",
    "lr.intercept_"
   ]
  },
  {
   "cell_type": "code",
   "execution_count": null,
   "id": "917af2d3",
   "metadata": {},
   "outputs": [],
   "source": [
    "# 8. What is the value of the slope?\n",
    "\n",
    "lr.coef_[0]"
   ]
  },
  {
   "cell_type": "markdown",
   "id": "add80f13",
   "metadata": {},
   "source": [
    "Pandya Motors, a passenger car manufacturer, wants to predict the profit for its cars based on the expenditure spent on areas like safety features, tech features, and marketing. Every car has multiple variants like the base model, middle variant, top model, automatic gearbox, etc. Based on the data provided, build a linear regression model and predict the profit. Use the instructions provided below.<br>\n",
    "i. You are provided with two excel files: X.xlsx and y.xlsx, where X is the feature matrix, and y is the target variable.<br>\n",
    "ii. Do not do any kind of feature engineering as the data is already feature-engineered and ready to be used for building the regression model.<br>\n",
    "iii. Use train_test_split from sklearn.model_selection and keep the test_size = 0.2, random_state = 0<br>\n",
    "iv. Next, use LinearRegression from sklearn.linear_model and build the regression model<br>\n",
    "v. As usual, fit the model on X_train and y_train<br>\n",
    "vi. Then predict on X_test<br>"
   ]
  },
  {
   "cell_type": "code",
   "execution_count": null,
   "id": "6c4727c3",
   "metadata": {},
   "outputs": [],
   "source": [
    "# Importing Dataset\n",
    "\n",
    "X = pd.read_csv(\"X.csv\")\n",
    "Y = pd.read_csv(\"Y.csv\")"
   ]
  },
  {
   "cell_type": "code",
   "execution_count": null,
   "id": "36192b8d",
   "metadata": {},
   "outputs": [],
   "source": [
    "# Split The Dataset Into Training And Testing Dataset\n",
    "\n",
    "X_train,X_test,Y_train,Y_test = train_test_split(X,Y,test_size=0.2,random_state=0)"
   ]
  },
  {
   "cell_type": "code",
   "execution_count": null,
   "id": "b6f94894",
   "metadata": {},
   "outputs": [],
   "source": [
    "# Build Linear Regression Model\n",
    "\n",
    "lr = LinearRegression()\n",
    "lr.fit(X_train,Y_train)"
   ]
  },
  {
   "cell_type": "code",
   "execution_count": null,
   "id": "1367b7e1",
   "metadata": {},
   "outputs": [],
   "source": [
    "# 9. What is the R2 of the model?\n",
    "\n",
    "Y_pred = lr.predict(X_test)\n",
    "r2_score(Y_test,Y_pred)"
   ]
  },
  {
   "cell_type": "code",
   "execution_count": null,
   "id": "99b68f0a",
   "metadata": {},
   "outputs": [],
   "source": [
    "# 10. What is the value of the intercept?\n",
    "\n",
    "lr.intercept_[0]"
   ]
  },
  {
   "cell_type": "code",
   "execution_count": null,
   "id": "be6f44a9",
   "metadata": {},
   "outputs": [],
   "source": [
    "# 11. If X1 = 1315.46,X2 = 115816.21,X3 = 297114.46,X4 = 1,X5 = 0, then predict the profit from your linear regression model.\n",
    "\n",
    "lr.predict([[1315.46,115816.21,297114.46,1,0]])[0][0]"
   ]
  }
 ],
 "metadata": {
  "kernelspec": {
   "display_name": "Python 3 (ipykernel)",
   "language": "python",
   "name": "python3"
  },
  "language_info": {
   "codemirror_mode": {
    "name": "ipython",
    "version": 3
   },
   "file_extension": ".py",
   "mimetype": "text/x-python",
   "name": "python",
   "nbconvert_exporter": "python",
   "pygments_lexer": "ipython3",
   "version": "3.11.5"
  }
 },
 "nbformat": 4,
 "nbformat_minor": 5
}
